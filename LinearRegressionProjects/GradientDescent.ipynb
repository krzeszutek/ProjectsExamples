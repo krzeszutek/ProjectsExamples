{
 "cells": [
  {
   "attachments": {},
   "cell_type": "markdown",
   "metadata": {},
   "source": [
    "  Descent gradient\n",
    "  \n",
    "  https://towardsdatascience.com/gradient-descent-algorithm-a-deep-dive-cf04e8115f21"
   ]
  },
  {
   "cell_type": "code",
   "execution_count": null,
   "metadata": {},
   "outputs": [],
   "source": [
    "import numpy as np\n",
    "\n",
    "def gradient_descent(start, gradient, learn_rate, max_iter, tolerance=0.01):\n",
    "    steps = [start] # History tracking\n",
    "    x = start\n",
    "\n",
    "for _ in range(max_iter):\n",
    "    diff = learn_rate*gradient(x)\n",
    "    if np.abs(diff)<tol:\n",
    "        break    \n",
    "    x = x - diff\n",
    "    steps.append(x) # history tracing\n",
    "\n",
    "\n",
    "\n"
   ]
  },
  {
   "attachments": {
    "image.png": {
     "image/png": "[encoded data removed]"
    }
   },
   "cell_type": "markdown",
   "metadata": {},
   "source": [
    "start - często jest to losowa inicjalizacja, ale my zrobimy ręcznie\n",
    "  \n",
    "  gradient - musi być wcześniej określona (?)\n",
    "  \n",
    "  learn_rate - współczynnik skalujący dla rozmiarów kroków\n",
    "  \n",
    "  max_iter - maksymalna liczba iteracji\n",
    "  \n",
    "  tolerance - warunkowe zatrzymanie algorytmu (w tym przypadku domyślna wartość to 0,01) \n",
    "  \n",
    "  Przykład: \n",
    "  \n",
    "  \n",
    "  ![image.png](attachment:image.png)"
   ]
  },
  {
   "cell_type": "code",
   "execution_count": null,
   "metadata": {},
   "outputs": [],
   "source": [
    "gradient1 = 2*x - 4\n",
    "gradient_descent(start=9, gradient=gradient1, learn_rate=0.1, max_iter=100)"
   ]
  },
  {
   "attachments": {},
   "cell_type": "markdown",
   "metadata": {},
   "source": [
    "### Linear regression with gradient descent\n",
    "https://www.youtube.com/watch?v=ltXSoduiVwY&t=197s"
   ]
  }
 ],
 "metadata": {
  "language_info": {
   "name": "python"
  },
  "orig_nbformat": 4
 },
 "nbformat": 4,
 "nbformat_minor": 2
}
