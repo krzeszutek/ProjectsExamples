{
 "cells": [
  {
   "cell_type": "code",
   "execution_count": null,
   "metadata": {},
   "outputs": [],
   "source": []
  }
 ],
 "metadata": {
  "kernelspec": {
   "display_name": "base",
   "language": "python",
   "name": "python3"
  },
  "language_info": {
   "name": "python",
   "version": "3.9.12"
  },
  "orig_nbformat": 4,
  "vscode": {
   "interpreter": {
    "hash": "15ca69b174a84c362863b7fdf6e00bba82608170d60ef3af8bbca04644d78b0a"
   }
  }
 },
 "nbformat": 4,
 "nbformat_minor": 2
}
