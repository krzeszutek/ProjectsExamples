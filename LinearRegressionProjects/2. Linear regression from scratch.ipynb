{
 "cells": [
  {
   "attachments": {},
   "cell_type": "markdown",
   "metadata": {},
   "source": [
    "### Linear Regression From Scratch in Python (Mathematical)\n",
    "https://www.youtube.com/watch?v=VmbA0pi2cRQ&t=157s"
   ]
  }
 ],
 "metadata": {
  "kernelspec": {
   "display_name": "base",
   "language": "python",
   "name": "python3"
  },
  "language_info": {
   "name": "python",
   "version": "3.9.12"
  },
  "orig_nbformat": 4,
  "vscode": {
   "interpreter": {
    "hash": "15ca69b174a84c362863b7fdf6e00bba82608170d60ef3af8bbca04644d78b0a"
   }
  }
 },
 "nbformat": 4,
 "nbformat_minor": 2
}
